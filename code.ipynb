{
 "cells": [
  {
   "cell_type": "code",
   "execution_count": 2,
   "metadata": {},
   "outputs": [],
   "source": [
    "import fitz  # PyMuPDF\n",
    "\n",
    "filename = 'keppel-corporation-limited-annual-report-2018.pdf'\n",
    "\n",
    "# Open the file\n",
    "file = fitz.open(filename)\n",
    "\n",
    "# Get the 12th page (zero-indexed)\n",
    "page_num = 11  # Page number 12 is at index 11 as page numbering starts from 0\n",
    "\n",
    "# Check if page number 12 exists\n",
    "if page_num < len(file):\n",
    "    page = file[page_num]\n",
    "    blocks = page.get_text(\"blocks\")\n",
    "else:\n",
    "    blocks = []\n",
    "\n",
    "# Close the PDF file\n",
    "file.close()"
   ]
  },
  {
   "cell_type": "code",
   "execution_count": 3,
   "metadata": {},
   "outputs": [],
   "source": [
    "from collections import defaultdict\n",
    "\n",
    "# Initialize column dictionary\n",
    "columns = defaultdict(list)\n",
    "\n",
    "# Define a threshold for determining columns\n",
    "threshold = 50\n",
    "\n",
    "# Categorize blocks into columns\n",
    "for block in blocks:\n",
    "    x, y, _, _, text = block[:5]\n",
    "    column_found = False\n",
    "    for col_x in columns:\n",
    "        if abs(x - col_x) < threshold:\n",
    "            columns[col_x].append((y, text))\n",
    "            column_found = True\n",
    "            break\n",
    "    if not column_found:\n",
    "        columns[x].append((y, text))\n",
    "\n",
    "# Sort columns based on x-coordinate and blocks within columns based on y-coordinate\n",
    "sorted_columns = sorted(columns.items(), key=lambda item: item[0])\n",
    "sorted_blocks = []\n",
    "for _, col_blocks in sorted_columns:\n",
    "    sorted_blocks.extend(sorted(col_blocks, key=lambda block: block[0]))\n",
    "\n"
   ]
  },
  {
   "cell_type": "code",
   "execution_count": null,
   "metadata": {},
   "outputs": [],
   "source": [
    "from openpyxl import Workbook\n",
    "\n",
    "# Create a workbook and select the active worksheet\n",
    "wb = Workbook()\n",
    "ws = wb.active\n",
    "\n",
    "# Write sorted blocks to Excel\n",
    "for i, (y, text) in enumerate(sorted_blocks, start=1):\n",
    "    ws.cell(row=i, column=1, value=text)\n",
    "\n",
    "# Save the workbook\n",
    "wb.save('output_page_12.xlsx')"
   ]
  }
 ],
 "metadata": {
  "kernelspec": {
   "display_name": "Python 3",
   "language": "python",
   "name": "python3"
  },
  "language_info": {
   "codemirror_mode": {
    "name": "ipython",
    "version": 3
   },
   "file_extension": ".py",
   "mimetype": "text/x-python",
   "name": "python",
   "nbconvert_exporter": "python",
   "pygments_lexer": "ipython3",
   "version": "3.10.8"
  },
  "orig_nbformat": 4
 },
 "nbformat": 4,
 "nbformat_minor": 2
}
